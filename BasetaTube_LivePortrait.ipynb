{
  "cells": [
    {
      "cell_type": "markdown",
      "metadata": {
        "id": "view-in-github",
        "colab_type": "text"
      },
      "source": [
        "<a href=\"https://colab.research.google.com/github/hamza-11/chatz/blob/main/BasetaTube_LivePortrait.ipynb\" target=\"_parent\"><img src=\"https://colab.research.google.com/assets/colab-badge.svg\" alt=\"Open In Colab\"/></a>"
      ]
    },
    {
      "cell_type": "markdown",
      "source": [
        "## تحويل الصور إلى فيديو - كيف تجعل صورك تتكلم؟\n",
        "<table align='center' border='10' padding='100'>\n",
        "<tr>\n",
        "<td><img src='https://drive.google.com/uc?export=view&id=1i6f7b3M9MnRe1lRAFZ3rysFmEZEk-Z5_' width='300' /></td>\n",
        "<td align='center' >\n",
        "<h1 style='font-size:30px'> تحويل الصور إلى فيديو - كيف تجعل صورك تتكلم؟\n",
        "<br>\n",
        "للاشتراك فى القناة للمزيد من فيديوهات التكنولوجيا و الذكاء الاصطناعى\n",
        "<br><br>\n",
        "<a href='https://www.youtube.com/@basetatube/?sub_confirmation=1' target='_blank'>أشترك الأن</a>\n",
        "</h1>\n",
        "</td>\n",
        "</tr>\n",
        "</table><br>\n"
      ],
      "metadata": {
        "id": "qjBPZ1t_Bz0K"
      }
    },
    {
      "cell_type": "code",
      "execution_count": 1,
      "metadata": {
        "id": "VjYy0F2gZIPR",
        "cellView": "form",
        "colab": {
          "base_uri": "https://localhost:8080/"
        },
        "outputId": "73ab5c14-21a7-466c-fe43-9ed5bd6e3e52"
      },
      "outputs": [
        {
          "output_type": "stream",
          "name": "stdout",
          "text": [
            "Installed!\n"
          ]
        }
      ],
      "source": [
        "#@title الخطوة الأولى التثبيت\n",
        "from IPython.display import clear_output\n",
        "import codecs\n",
        "\n",
        "%cd /content\n",
        "giturl = codecs.decode('uggcf://tvguho.pbz/onfvgnghor/OnfrgnGhor_YvirCbegenvg.tvg','rot_13')\n",
        "gitdir = codecs.decode('OnfrgnGhor_YvirCbegenvg','rot_13')\n",
        "giturlHF = codecs.decode('uggcf://uhttvatsnpr.pb/Onfrgn/OG_YvirCbegenvg','rot_13')\n",
        "\n",
        "#!git clone {giturl}\n",
        "!git clone -b V2 {giturl}\n",
        "%cd /content/{gitdir}\n",
        "\n",
        "!rm -rf /content/{gitdir}/pretrained_weights\n",
        "!git clone {giturlHF} /content/{gitdir}/pretrained_weights\n",
        "\n",
        "!pip install tyro==0.8.5 onnxruntime-gpu==1.18.1 onnx==1.16.1 gradio==4.36.1 colorama pykalman==0.9.7\n",
        "!pip install https://github.com/karaokenerds/python-audio-separator/releases/download/v0.12.1/onnxruntime_gpu-1.17.0-cp310-cp310-linux_x86_64.whl\n",
        "#!pip install -r requirements.txt\n",
        "\n",
        "#%cd /content/{gitdir}/src/utils/dependencies/insightface/thirdparty/face3d/mesh/cython\n",
        "#!python setup.py build_ext --inplace\n",
        "\n",
        "clear_output()\n",
        "print(\"Installed!\")"
      ]
    },
    {
      "cell_type": "code",
      "execution_count": null,
      "metadata": {
        "id": "jZHXHbjRviKl",
        "outputId": "61299835-9775-4a5c-d42d-ddccbb28e63d",
        "colab": {
          "base_uri": "https://localhost:8080/"
        }
      },
      "outputs": [
        {
          "metadata": {
            "tags": null
          },
          "name": "stdout",
          "output_type": "stream",
          "text": [
            "/content/BasetaTube_LivePortrait\n",
            "Load appearance_feature_extractor done.\n",
            "Load motion_extractor done.\n",
            "Load warping_module done.\n",
            "Load spade_generator done.\n",
            "Load stitching_retargeting_module done.\n",
            "LandmarkRunner warmup time: 2.111s\n",
            "FaceAnalysisDIY warmup time: 1.514s\n",
            "Running on local URL:  http://127.0.0.1:8890\n",
            "Running on public URL: https://b71a0564f7b8a1c8ff.gradio.live\n",
            "\n",
            "This share link expires in 72 hours. For free permanent hosting and GPU upgrades, run `gradio deploy` from Terminal to deploy to Spaces (https://huggingface.co/spaces)\n",
            "Load source image from /tmp/gradio/67132e4f52182b4ba2c46861f87d3fef1fbdcb2f/s9.jpeg\n",
            "Load driving video from: /tmp/gradio/d9a16140046e37e804fffb63bfcd85de41cff19b/d19.mp4, FPS is 30\n",
            "Start making driving motion template...\n",
            "\u001b[2KMaking motion templates... \u001b[90m━━━━━━━━━━━━━━━━━━━━━━━━━━━━━━━━━━━━━━━━\u001b[0m \u001b[35m100%\u001b[0m \u001b[33m0:00:04\u001b[0m\n",
            "\u001b[?25hDump motion template to /tmp/gradio/d9a16140046e37e804fffb63bfcd85de41cff19b/d19.pkl\n",
            "Prepared pasteback mask done.\n",
            "The animated video consists of 250 frames.\n",
            "\u001b[2K🚀Animating... \u001b[90m━━━━━━━━━━━━━━━━━━━━━━━━━━━━━━━━━━━━━━━━\u001b[0m \u001b[35m100%\u001b[0m \u001b[33m0:00:38\u001b[0m\n",
            "\u001b[2KConcatenating result... \u001b[90m━━━━━━━━━━━━━━━━━━━━━━━━━━━━━━━━━━━━━━━━\u001b[0m \u001b[35m100%\u001b[0m \u001b[33m0:00:01\u001b[0m\n",
            "\u001b[2KWriting \u001b[90m━━━━━━━━━━━━━━━━━━━━━━━━━━━━━━━━━━━━━━━━\u001b[0m \u001b[35m100%\u001b[0m \u001b[33m0:00:08\u001b[0m\n",
            "\u001b[1A\u001b[2KAudio is selected from /tmp/gradio/d9a16140046e37e804fffb63bfcd85de41cff19b/d19.mp4, concat mode\n",
            "Video with audio generated successfully: animations/s9--d19_concat_with_audio.mp4\n",
            "Replace animations/s9--d19_concat.mp4 with animations/s9--d19_concat_with_audio.mp4\n",
            "\u001b[2KWriting \u001b[90m━━━━━━━━━━━━━━━━━━━━━━━━━━━━━━━━━━━━━━━━\u001b[0m \u001b[35m100%\u001b[0m \u001b[33m0:00:06\u001b[0m\n",
            "\u001b[1A\u001b[2KAudio is selected from /tmp/gradio/d9a16140046e37e804fffb63bfcd85de41cff19b/d19.mp4\n",
            "Video with audio generated successfully: animations/s9--d19_with_audio.mp4\n",
            "Replace animations/s9--d19.mp4 with animations/s9--d19_with_audio.mp4\n",
            "Animated template: /tmp/gradio/d9a16140046e37e804fffb63bfcd85de41cff19b/d19.pkl, you can specify `-d` argument with this template path next time to avoid cropping video, motion making and protecting privacy.\n",
            "Animated video: animations/s9--d19.mp4\n",
            "Animated video with concat: animations/s9--d19_concat.mp4\n",
            "Load source image from /tmp/gradio/b6d86b726c0e6689c8facfb69adb973e245387e4/s12.jpeg\n",
            "Load driving video from: /tmp/gradio/676c6c163d0c6f5d3c4776b01172d378a2d611ef/d6.mp4, FPS is 30\n",
            "Start making driving motion template...\n",
            "\u001b[2KMaking motion templates... \u001b[90m━━━━━━━━━━━━━━━━━━━━━━━━━━━━━━━━━━━━━━━━\u001b[0m \u001b[35m100%\u001b[0m \u001b[33m0:00:15\u001b[0m\n",
            "\u001b[?25hDump motion template to /tmp/gradio/676c6c163d0c6f5d3c4776b01172d378a2d611ef/d6.pkl\n",
            "Prepared pasteback mask done.\n",
            "The animated video consists of 1008 frames.\n",
            "\u001b[2K🚀Animating... \u001b[90m━━━━━━━━━━━━━━━━━━━━━━━━━━━━━━━━━━━━━━━━\u001b[0m \u001b[35m100%\u001b[0m \u001b[33m0:02:12\u001b[0m\n",
            "\u001b[2KConcatenating result... \u001b[90m━━━━━━━━━━━━━━━━━━━━━━━━━━━━━━━━━━━━━━━━\u001b[0m \u001b[35m100%\u001b[0m \u001b[33m0:00:04\u001b[0m\n",
            "\u001b[2KWriting \u001b[90m━━━━━━━━━━━━━━━━━━━━━━━━━━━━━━━━━━━━━━━━\u001b[0m \u001b[35m100%\u001b[0m \u001b[33m0:00:42\u001b[0m\n",
            "\u001b[1A\u001b[2KAudio is selected from /tmp/gradio/676c6c163d0c6f5d3c4776b01172d378a2d611ef/d6.mp4, concat mode\n",
            "Video with audio generated successfully: animations/s12--d6_concat_with_audio.mp4\n",
            "Replace animations/s12--d6_concat.mp4 with animations/s12--d6_concat_with_audio.mp4\n",
            "\u001b[2KWriting \u001b[90m━━━━━━━━━━━━━━━━━━━━━━━━━━━━━━━━━━━━━━━━\u001b[0m \u001b[35m  0%\u001b[0m \u001b[36m-:--:--\u001b[0m\u001b[1;34m[swscaler @ 0x6472000] \u001b[0m\u001b[0;33mWarning: data is not aligned! This can lead to a speed loss\n",
            "\u001b[2KWriting \u001b[90m━━━━━━━━━━━━━━━━━━━━━━━━━━━━━━━━━━━━━━━━\u001b[0m \u001b[35m100%\u001b[0m \u001b[33m0:00:09\u001b[0m\n",
            "\u001b[1A\u001b[2KAudio is selected from /tmp/gradio/676c6c163d0c6f5d3c4776b01172d378a2d611ef/d6.mp4\n",
            "Video with audio generated successfully: animations/s12--d6_with_audio.mp4\n",
            "Replace animations/s12--d6.mp4 with animations/s12--d6_with_audio.mp4\n",
            "Animated template: /tmp/gradio/676c6c163d0c6f5d3c4776b01172d378a2d611ef/d6.pkl, you can specify `-d` argument with this template path next time to avoid cropping video, motion making and protecting privacy.\n",
            "Animated video: animations/s12--d6.mp4\n",
            "Animated video with concat: animations/s12--d6_concat.mp4\n"
          ]
        }
      ],
      "source": [
        "\n",
        "#@title الخطوة الثانية\n",
        "import codecs\n",
        "gitdir = codecs.decode('OnfrgnGhor_YvirCbegenvg','rot_13')\n",
        "%cd /content/{gitdir}\n",
        "!python3 app.py"
      ]
    }
  ],
  "metadata": {
    "accelerator": "GPU",
    "colab": {
      "gpuType": "T4",
      "provenance": [],
      "include_colab_link": true
    },
    "kernelspec": {
      "display_name": "Python 3",
      "name": "python3"
    },
    "language_info": {
      "name": "python"
    }
  },
  "nbformat": 4,
  "nbformat_minor": 0
}